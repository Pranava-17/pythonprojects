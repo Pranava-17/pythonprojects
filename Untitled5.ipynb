{
  "nbformat": 4,
  "nbformat_minor": 0,
  "metadata": {
    "colab": {
      "provenance": [],
      "authorship_tag": "ABX9TyMCafzJxAJOW9oSKkQc0GUz",
      "include_colab_link": true
    },
    "kernelspec": {
      "name": "python3",
      "display_name": "Python 3"
    },
    "language_info": {
      "name": "python"
    }
  },
  "cells": [
    {
      "cell_type": "markdown",
      "metadata": {
        "id": "view-in-github",
        "colab_type": "text"
      },
      "source": [
        "<a href=\"https://colab.research.google.com/github/Pranava-17/sendemail_python/blob/main/Untitled5.ipynb\" target=\"_parent\"><img src=\"https://colab.research.google.com/assets/colab-badge.svg\" alt=\"Open In Colab\"/></a>"
      ]
    },
    {
      "cell_type": "code",
      "execution_count": null,
      "metadata": {
        "colab": {
          "base_uri": "https://localhost:8080/"
        },
        "id": "a4Jl-X0poam3",
        "outputId": "73a3d3d0-c224-4ecc-d7da-45b874208ead"
      },
      "outputs": [
        {
          "output_type": "stream",
          "name": "stdout",
          "text": [
            "welcome to email slicer\n",
            " \n",
            "enter the email: prannu1720@gmail.com\n",
            "username= prannu1720\n",
            "domain= gmail\n",
            "extention= com\n",
            "welcome to email slicer\n",
            " \n"
          ]
        }
      ],
      "source": [
        "def main():\n",
        "  print(\"welcome to email slicer\")\n",
        "  print(\" \")\n",
        "  email=input(\"enter the email: \")\n",
        "  (username,domain)=email.split(\"@\")\n",
        "  (domain,ext)=domain.split(\".\")\n",
        "  print(\"username=\",username)\n",
        "  print(\"domain=\",domain)\n",
        "  print(\"extention=\",ext)\n",
        "\n",
        "while True:\n",
        "  main()"
      ]
    }
  ]
}