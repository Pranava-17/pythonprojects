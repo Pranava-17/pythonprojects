{
  "nbformat": 4,
  "nbformat_minor": 0,
  "metadata": {
    "colab": {
      "provenance": [],
      "authorship_tag": "ABX9TyOc3awUeFtigcOWOoDp1NUi",
      "include_colab_link": true
    },
    "kernelspec": {
      "name": "python3",
      "display_name": "Python 3"
    },
    "language_info": {
      "name": "python"
    }
  },
  "cells": [
    {
      "cell_type": "markdown",
      "metadata": {
        "id": "view-in-github",
        "colab_type": "text"
      },
      "source": [
        "<a href=\"https://colab.research.google.com/github/Pranava-17/sendemail_python/blob/main/Untitled3.ipynb\" target=\"_parent\"><img src=\"https://colab.research.google.com/assets/colab-badge.svg\" alt=\"Open In Colab\"/></a>"
      ]
    },
    {
      "cell_type": "code",
      "execution_count": null,
      "metadata": {
        "colab": {
          "base_uri": "https://localhost:8080/"
        },
        "id": "BG-Vvz2cfGaG",
        "outputId": "784d6082-15a1-4d9e-fe80-79d28f56e0c9"
      },
      "outputs": [
        {
          "output_type": "stream",
          "name": "stdout",
          "text": [
            "enter the word to be replaced= market\n",
            "enter the replacement word= movie\n",
            "i am going to movie\n"
          ]
        }
      ],
      "source": [
        "def rename():\n",
        "  str='i am going to market'\n",
        "  word_to_replace=input(\"enter the word to be replaced= \")\n",
        "  word_replacement=input(\"enter the replacement word= \")\n",
        "  print(str.replace(word_to_replace,word_replacement))\n",
        "\n",
        "rename()\n",
        ""
      ]
    }
  ]
}