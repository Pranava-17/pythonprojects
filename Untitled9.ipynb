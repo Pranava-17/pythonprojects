{
  "cells": [
    {
      "cell_type": "markdown",
      "metadata": {
        "id": "view-in-github",
        "colab_type": "text"
      },
      "source": [
        "<a href=\"https://colab.research.google.com/github/Pranava-17/sendemail_python/blob/main/Untitled9.ipynb\" target=\"_parent\"><img src=\"https://colab.research.google.com/assets/colab-badge.svg\" alt=\"Open In Colab\"/></a>"
      ]
    },
    {
      "cell_type": "code",
      "execution_count": null,
      "metadata": {
        "id": "75EVmgA17--F"
      },
      "outputs": [],
      "source": []
    },
    {
      "cell_type": "code",
      "execution_count": null,
      "metadata": {
        "colab": {
          "background_save": true,
          "base_uri": "https://localhost:8080/"
        },
        "id": "jR6oR1lP_kf_",
        "outputId": "eb806f50-5eaa-4cd8-8159-082cd0ed3101"
      },
      "outputs": [
        {
          "name": "stdout",
          "output_type": "stream",
          "text": [
            "['what is the capital of india?']\n"
          ]
        }
      ],
      "source": [
        "quiz={\n",
        "    \"question 1\":{\n",
        "        \"question\": \"what is the capital of india?\",\n",
        "       \"answer\": \"delhi\"\n",
        "    },\n",
        "    \"question 2\":{\n",
        "        \"question\": \"what is the capital of usa?\",\n",
        "        \"answer\": \"washington D C\"\n",
        "    },\n",
        "    \"question 3\":{\n",
        "        \"question\": \"what is the capital of canada?\",\n",
        "        \"answer\": \"ottawa\"\n",
        "    },\n",
        "    \"question 4\":{\n",
        "        \"question\": \"what is the capital of china?\",\n",
        "        \"answer\": \"beijing\"\n",
        "    },\n",
        "    \"question 5\":{\n",
        "        \"question\": \"what is the capital of south korea?\",\n",
        "        \"answer\": \"seoul\"\n",
        "    },\n",
        "    \"question 6\":{\n",
        "        \"question\": \"what is the capital of maldives?\",\n",
        "        \"answer\": \"male\"\n",
        "    },\n",
        "    \"question 7\":{\n",
        "        \"question\": \"what is the capital of spain?\",\n",
        "        \"answer\": \"madrid\"\n",
        "    },\n",
        "    \"question 8\":{\n",
        "        \"question\": \"what is the capital of france?\",\n",
        "        \"answer\": \"paris\"\n",
        "    },\n",
        "    \"question 9\":{\n",
        "        \"question\": \"what is the capital of germany?\",\n",
        "        \"answer\": \"berlin\"\n",
        "    },\n",
        "    \"question 10\":{\n",
        "        \"question\": \"what is the capital of italy?\",\n",
        "        \"answer\": \"rome\"\n",
        "    },\n",
        "\n",
        "}\n",
        "score=0\n",
        "for key,value in quiz.items():\n",
        "  print([value['question']])\n",
        "  answer=input(\"answer? \")\n",
        "\n",
        "  if(answer.lower()==value['answer'].lower()):\n",
        "    print(\"correct\")\n",
        "    score+=1\n",
        "    print(\"score\"+str(score))\n",
        "  else:\n",
        "    print(\"wrong!\")\n",
        "    print(\"correct ans is \"+value['answer'])\n",
        "    print(\"score\"+str(score))\n",
        "\n",
        "\n",
        "\n"
      ]
    }
  ],
  "metadata": {
    "colab": {
      "provenance": [],
      "authorship_tag": "ABX9TyOwcgEyAW76cuduLws6OZ7u",
      "include_colab_link": true
    },
    "kernelspec": {
      "display_name": "Python 3",
      "name": "python3"
    },
    "language_info": {
      "name": "python"
    }
  },
  "nbformat": 4,
  "nbformat_minor": 0
}