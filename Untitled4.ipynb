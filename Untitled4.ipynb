{
  "cells": [
    {
      "cell_type": "markdown",
      "metadata": {
        "id": "view-in-github",
        "colab_type": "text"
      },
      "source": [
        "<a href=\"https://colab.research.google.com/github/Pranava-17/sendemail_python/blob/main/Untitled4.ipynb\" target=\"_parent\"><img src=\"https://colab.research.google.com/assets/colab-badge.svg\" alt=\"Open In Colab\"/></a>"
      ]
    },
    {
      "cell_type": "code",
      "execution_count": null,
      "metadata": {
        "colab": {
          "background_save": true,
          "base_uri": "https://localhost:8080/"
        },
        "id": "rrx0if-Kgae9",
        "outputId": "2bcbed8e-78a6-4c90-ae43-32bc0cc2a73f"
      },
      "outputs": [
        {
          "name": "stdout",
          "output_type": "stream",
          "text": [
            "A:Add\n",
            "B:Sub\n",
            "C:Mul\n",
            "D:Div\n",
            "E:none\n",
            "7*9=63\n",
            "\n",
            "A:Add\n",
            "B:Sub\n",
            "C:Mul\n",
            "D:Div\n",
            "E:none\n",
            "6-7=-1\n",
            "\n",
            "A:Add\n",
            "B:Sub\n",
            "C:Mul\n",
            "D:Div\n",
            "E:none\n"
          ]
        }
      ],
      "source": [
        "def add(a,b):\n",
        "  answer=a+b\n",
        "  print(str(a)+\"+\"+str(b)+\"=\"+str(answer)+\"\\n\")\n",
        "\n",
        "def sub(a,b):\n",
        "  answer=a-b\n",
        "  print(str(a)+\"-\"+str(b)+\"=\"+str(answer)+\"\\n\")\n",
        "\n",
        "def mul(a,b):\n",
        "  answer=a*b\n",
        "  print(str(a)+\"*\"+str(b)+\"=\"+str(answer)+\"\\n\")\n",
        "\n",
        "def div(a,b):\n",
        "  answer=a/b\n",
        "  print(str(a)+\"/\"+str(b)+\"=\"+str(answer)+\"\\n\")\n",
        "\n",
        "while True:\n",
        "  print(\"A:Add\")\n",
        "  print(\"B:Sub\")\n",
        "  print(\"C:Mul\")\n",
        "  print(\"D:Div\")\n",
        "  print(\"E:none\")\n",
        "  choice=input(\"enter ur choice= \")\n",
        "  if(choice=='a' or choice=='A'):\n",
        "    a=int(input(\"enter 1st ele= \"))\n",
        "    b=int(input(\"enter 2nd ele= \"))\n",
        "    add(a,b)\n",
        "\n",
        "  elif(choice=='b' or choice=='B'):\n",
        "    a=int(input(\"enter 1st ele= \"))\n",
        "    b=int(input(\"enter 2nd ele= \"))\n",
        "    sub(a,b)\n",
        "\n",
        "  elif(choice=='c' or choice=='C'):\n",
        "    a=int(input(\"enter 1st ele= \"))\n",
        "    b=int(input(\"enter 2nd ele= \"))\n",
        "    mul(a,b)\n",
        "\n",
        "  elif(choice=='d' or choice=='D'):\n",
        "    a=int(input(\"enter 1st ele= \"))\n",
        "    b=int(input(\"enter 2nd ele= \"))9\n",
        "    div(a,b)\n",
        "\n",
        "  elif(choice=='e' or choice=='E'):\n",
        "    print(\"program ended\")\n",
        "    quit()\n",
        "\n",
        "\n",
        "\n",
        "\n",
        "\n",
        ""
      ]
    }
  ],
  "metadata": {
    "colab": {
      "toc_visible": true,
      "provenance": [],
      "authorship_tag": "ABX9TyOg/6GOIVov+otyI9ycOBQ7",
      "include_colab_link": true
    },
    "kernelspec": {
      "display_name": "Python 3",
      "name": "python3"
    },
    "language_info": {
      "name": "python"
    }
  },
  "nbformat": 4,
  "nbformat_minor": 0
}